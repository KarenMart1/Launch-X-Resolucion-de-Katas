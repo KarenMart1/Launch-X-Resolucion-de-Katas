{
 "cells": [
  {
   "cell_type": "markdown",
   "metadata": {},
   "source": [
    " # Crear una lista"
   ]
  },
  {
   "cell_type": "code",
   "execution_count": 1,
   "metadata": {},
   "outputs": [
    {
     "name": "stdout",
     "output_type": "stream",
     "text": [
      "['Mercurio', 'Venus', 'Tierra', 'Marte', 'Jupiter', 'Saturno', 'Urano', 'Neptuno']\n"
     ]
    }
   ],
   "source": [
    "#listas \n",
    "planetas = ['Mercurio', 'Venus', 'Tierra', 'Marte', 'Jupiter', 'Saturno', 'Urano', 'Neptuno']\n",
    "\n",
    "print(planetas)"
   ]
  },
  {
   "cell_type": "markdown",
   "metadata": {},
   "source": [
    "# Acceder a elementos de lista por índice"
   ]
  },
  {
   "cell_type": "code",
   "execution_count": 3,
   "metadata": {},
   "outputs": [
    {
     "name": "stdout",
     "output_type": "stream",
     "text": [
      "El primer planeta es  Mercurio\n",
      "El segundo planeta es  Venus\n",
      "El tercer planeta es  Tierra\n",
      "El penultimo planeta es  Urano\n"
     ]
    }
   ],
   "source": [
    "# Acceder de una lista poniendo el index/índice entre [], \n",
    "# los índices comienzan desde 0, por lo que en el siguiente código planets[0]\n",
    "\n",
    "print('El primer planeta es ', planetas[0])\n",
    "print('El segundo planeta es ', planetas[1])\n",
    "print('El tercer planeta es ', planetas[2])\n",
    "print('El penultimo planeta es ', planetas[6])\n"
   ]
  },
  {
   "cell_type": "code",
   "execution_count": 4,
   "metadata": {},
   "outputs": [
    {
     "name": "stdout",
     "output_type": "stream",
     "text": [
      "Marte tambien es conocido como  El planeta rojo\n"
     ]
    }
   ],
   "source": [
    "# Modificar un lemento de la lista\n",
    "planetas[3] = 'El planeta rojo'\n",
    "print('Marte tambien es conocido como ', planetas[3])\n"
   ]
  },
  {
   "cell_type": "markdown",
   "metadata": {},
   "source": [
    "# Determinar la longitud de una lista"
   ]
  },
  {
   "cell_type": "code",
   "execution_count": 5,
   "metadata": {},
   "outputs": [
    {
     "name": "stdout",
     "output_type": "stream",
     "text": [
      "Hay  8 planetas en nuestro sistema solar.\n"
     ]
    }
   ],
   "source": [
    "#longitud funcion len\n",
    "numero_de_planetas = len(planetas)\n",
    "print('Hay ', numero_de_planetas, 'planetas en nuestro sistema solar.')"
   ]
  },
  {
   "cell_type": "markdown",
   "metadata": {},
   "source": [
    "# Agregar valores a listas"
   ]
  },
  {
   "cell_type": "code",
   "execution_count": 5,
   "metadata": {},
   "outputs": [
    {
     "name": "stdout",
     "output_type": "stream",
     "text": [
      "En la actualidad hay  9 planetas en nuestro sistema solar.\n"
     ]
    }
   ],
   "source": [
    "\n",
    "planetas.append('Pluton')\n",
    "numero_de_planetas = len(planetas)\n",
    "print('En la actualidad hay ', numero_de_planetas, 'planetas en nuestro sistema solar.')"
   ]
  },
  {
   "cell_type": "markdown",
   "metadata": {},
   "source": [
    "# Eliminar valores de una lista"
   ]
  },
  {
   "cell_type": "code",
   "execution_count": 7,
   "metadata": {},
   "outputs": [
    {
     "name": "stdout",
     "output_type": "stream",
     "text": [
      " aun que definitivamente hay  8 planetas en nuestro sitema solar.\n"
     ]
    }
   ],
   "source": [
    "# Borrar un elemento (en especifico borra el ultimo elemento de la lista) de la lista con funcion pop\n",
    "\n",
    "planetas.pop()  # Goodbye, Pluto\n",
    "numero_de_planetas = len(planetas)\n",
    "print(' aun que definitivamente hay ', numero_de_planetas, 'planetas en nuestro sitema solar.')\n"
   ]
  },
  {
   "cell_type": "markdown",
   "metadata": {},
   "source": [
    "# Indices negativos"
   ]
  },
  {
   "cell_type": "code",
   "execution_count": 6,
   "metadata": {},
   "outputs": [
    {
     "name": "stdout",
     "output_type": "stream",
     "text": [
      "El ultimo planeta es Pluton\n"
     ]
    }
   ],
   "source": [
    "#muestra el utimo elemento\n",
    "print('El ultimo planeta es', planetas[-1])"
   ]
  },
  {
   "cell_type": "code",
   "execution_count": 7,
   "metadata": {},
   "outputs": [
    {
     "name": "stdout",
     "output_type": "stream",
     "text": [
      "El penultimo planeta es Neptuno\n"
     ]
    }
   ],
   "source": [
    "\n",
    "\n",
    "print('El penultimo planeta es', planetas[-2])\n",
    "#muestra el penultimo"
   ]
  },
  {
   "cell_type": "markdown",
   "metadata": {},
   "source": [
    "# Buscar un valor en una lista con metodo index"
   ]
  },
  {
   "cell_type": "code",
   "execution_count": 10,
   "metadata": {},
   "outputs": [
    {
     "name": "stdout",
     "output_type": "stream",
     "text": [
      "Jupiter es el 5 planeta desde el sol\n"
     ]
    }
   ],
   "source": [
    "\n",
    "jupiter_indice = planetas.index('Jupiter')\n",
    "print('Jupiter es el', jupiter_indice + 1, 'planeta desde el sol')"
   ]
  },
  {
   "cell_type": "markdown",
   "metadata": {},
   "source": [
    "# Trabajar con números en listas"
   ]
  },
  {
   "cell_type": "code",
   "execution_count": 11,
   "metadata": {},
   "outputs": [],
   "source": [
    "#asignacion de flotantes a variables\n",
    "gravedad_en_la_tierra = 1.0\n",
    "gravedad_en_la_luna = 0.166"
   ]
  },
  {
   "cell_type": "code",
   "execution_count": 13,
   "metadata": {},
   "outputs": [
    {
     "name": "stdout",
     "output_type": "stream",
     "text": [
      "La gravedad en Mercurio es 0.378\n"
     ]
    }
   ],
   "source": [
    "#listas con flotantes\n",
    "gravedad_de_planetas = [0.378, 0.907, 1, 0.379, 2.36, 0.916, 0.889, 1.12]\n",
    "\n",
    "print('La gravedad en Mercurio es', gravedad_de_planetas[0])"
   ]
  },
  {
   "cell_type": "code",
   "execution_count": 21,
   "metadata": {},
   "outputs": [
    {
     "name": "stdout",
     "output_type": "stream",
     "text": [
      "en la Tierra, un autobus de doble piso pesa  12650 kg\n"
     ]
    },
    {
     "ename": "NameError",
     "evalue": "name 'gravedad_de_planetas' is not defined",
     "output_type": "error",
     "traceback": [
      "\u001b[1;31m---------------------------------------------------------------------------\u001b[0m",
      "\u001b[1;31mNameError\u001b[0m                                 Traceback (most recent call last)",
      "\u001b[1;32mc:\\Users\\Admin\\Desktop\\Laugh X\\Kata 6. kar ipynb.ipynb Cell 20'\u001b[0m in \u001b[0;36m<module>\u001b[1;34m\u001b[0m\n\u001b[0;32m      <a href='vscode-notebook-cell:/c%3A/Users/Admin/Desktop/Laugh%20X/Kata%206.%20kar%20ipynb.ipynb#ch0000029?line=1'>2</a>\u001b[0m peso_autobus \u001b[39m=\u001b[39m \u001b[39m12650\u001b[39m \u001b[39m# en kilogramos\u001b[39;00m\n\u001b[0;32m      <a href='vscode-notebook-cell:/c%3A/Users/Admin/Desktop/Laugh%20X/Kata%206.%20kar%20ipynb.ipynb#ch0000029?line=3'>4</a>\u001b[0m \u001b[39mprint\u001b[39m(\u001b[39m'\u001b[39m\u001b[39men la Tierra, un autobus de doble piso pesa \u001b[39m\u001b[39m'\u001b[39m, peso_autobus, \u001b[39m'\u001b[39m\u001b[39mkg\u001b[39m\u001b[39m'\u001b[39m)\n\u001b[1;32m----> <a href='vscode-notebook-cell:/c%3A/Users/Admin/Desktop/Laugh%20X/Kata%206.%20kar%20ipynb.ipynb#ch0000029?line=4'>5</a>\u001b[0m \u001b[39mprint\u001b[39m(\u001b[39m'\u001b[39m\u001b[39mEn Mercurio, un autobus de doble piso pesa\u001b[39m\u001b[39m'\u001b[39m,  peso_autobus \u001b[39m*\u001b[39m gravedad_de_planetas[\u001b[39m0\u001b[39m], \u001b[39m'\u001b[39m\u001b[39mkg\u001b[39m\u001b[39m'\u001b[39m)\n",
      "\u001b[1;31mNameError\u001b[0m: name 'gravedad_de_planetas' is not defined"
     ]
    }
   ],
   "source": [
    "# ejemplo de gravedad de camion en mercurio\n",
    "peso_autobus = 12650 # en kilogramos\n",
    "\n",
    "print('en la Tierra, un autobus de doble piso pesa ', peso_autobus, 'kg')\n",
    "print('En Mercurio, un autobus de doble piso pesa',  peso_autobus * gravedad_de_planetas[0], 'kg')"
   ]
  },
  {
   "cell_type": "markdown",
   "metadata": {},
   "source": [
    "# Min() y max () con listas"
   ]
  },
  {
   "cell_type": "code",
   "execution_count": 20,
   "metadata": {},
   "outputs": [
    {
     "ename": "NameError",
     "evalue": "name 'gravedad_de_planetas' is not defined",
     "output_type": "error",
     "traceback": [
      "\u001b[1;31m---------------------------------------------------------------------------\u001b[0m",
      "\u001b[1;31mNameError\u001b[0m                                 Traceback (most recent call last)",
      "\u001b[1;32mc:\\Users\\Admin\\Desktop\\Laugh X\\Kata 6. kar ipynb.ipynb Cell 22'\u001b[0m in \u001b[0;36m<module>\u001b[1;34m\u001b[0m\n\u001b[1;32m----> <a href='vscode-notebook-cell:/c%3A/Users/Admin/Desktop/Laugh%20X/Kata%206.%20kar%20ipynb.ipynb#ch0000021?line=0'>1</a>\u001b[0m \u001b[39mprint\u001b[39m(\u001b[39m'\u001b[39m\u001b[39mEl min es: \u001b[39m\u001b[39m'\u001b[39m,\u001b[39mmin\u001b[39m(gravedad_de_planetas))\n\u001b[0;32m      <a href='vscode-notebook-cell:/c%3A/Users/Admin/Desktop/Laugh%20X/Kata%206.%20kar%20ipynb.ipynb#ch0000021?line=2'>3</a>\u001b[0m \u001b[39mprint\u001b[39m(\u001b[39m'\u001b[39m\u001b[39mEl max es: \u001b[39m\u001b[39m'\u001b[39m,\u001b[39mmax\u001b[39m(gravedad_de_planetas))\n",
      "\u001b[1;31mNameError\u001b[0m: name 'gravedad_de_planetas' is not defined"
     ]
    }
   ],
   "source": [
    "\n",
    "print('El min es: ',min(gravedad_de_planetas))\n",
    "\n",
    "print('El max es: ',max(gravedad_de_planetas))\n",
    "\n"
   ]
  },
  {
   "cell_type": "code",
   "execution_count": 19,
   "metadata": {},
   "outputs": [
    {
     "name": "stdout",
     "output_type": "stream",
     "text": [
      "en la Tierra, un autobus de doble piso pesa  12650 kg\n"
     ]
    },
    {
     "ename": "NameError",
     "evalue": "name 'gravedad_de_planetas' is not defined",
     "output_type": "error",
     "traceback": [
      "\u001b[1;31m---------------------------------------------------------------------------\u001b[0m",
      "\u001b[1;31mNameError\u001b[0m                                 Traceback (most recent call last)",
      "\u001b[1;32mc:\\Users\\Admin\\Desktop\\Laugh X\\Kata 6. kar ipynb.ipynb Cell 23'\u001b[0m in \u001b[0;36m<module>\u001b[1;34m\u001b[0m\n\u001b[0;32m      <a href='vscode-notebook-cell:/c%3A/Users/Admin/Desktop/Laugh%20X/Kata%206.%20kar%20ipynb.ipynb#ch0000022?line=1'>2</a>\u001b[0m peso_autobus \u001b[39m=\u001b[39m \u001b[39m12650\u001b[39m \n\u001b[0;32m      <a href='vscode-notebook-cell:/c%3A/Users/Admin/Desktop/Laugh%20X/Kata%206.%20kar%20ipynb.ipynb#ch0000022?line=3'>4</a>\u001b[0m \u001b[39mprint\u001b[39m(\u001b[39m'\u001b[39m\u001b[39men la Tierra, un autobus de doble piso pesa \u001b[39m\u001b[39m'\u001b[39m, peso_autobus, \u001b[39m'\u001b[39m\u001b[39mkg\u001b[39m\u001b[39m'\u001b[39m)\n\u001b[1;32m----> <a href='vscode-notebook-cell:/c%3A/Users/Admin/Desktop/Laugh%20X/Kata%206.%20kar%20ipynb.ipynb#ch0000022?line=4'>5</a>\u001b[0m \u001b[39mprint\u001b[39m(\u001b[39m'\u001b[39m\u001b[39mEl autobus mas ligero en nuestr sistema solas es \u001b[39m\u001b[39m'\u001b[39m, peso_autobus \u001b[39m*\u001b[39m \u001b[39mmin\u001b[39m(gravedad_de_planetas), \u001b[39m'\u001b[39m\u001b[39mkg\u001b[39m\u001b[39m'\u001b[39m)\n\u001b[0;32m      <a href='vscode-notebook-cell:/c%3A/Users/Admin/Desktop/Laugh%20X/Kata%206.%20kar%20ipynb.ipynb#ch0000022?line=5'>6</a>\u001b[0m \u001b[39mprint\u001b[39m(\u001b[39m'\u001b[39m\u001b[39mEl autobus mas pesado en nuestr sistema solas es\u001b[39m\u001b[39m'\u001b[39m, peso_autobus \u001b[39m*\u001b[39m \u001b[39mmax\u001b[39m(gravedad_de_planetas), \u001b[39m'\u001b[39m\u001b[39mkg\u001b[39m\u001b[39m'\u001b[39m)\n",
      "\u001b[1;31mNameError\u001b[0m: name 'gravedad_de_planetas' is not defined"
     ]
    }
   ],
   "source": [
    "#ejemplo de min y max\n",
    "peso_autobus = 12650 \n",
    "\n",
    "print('en la Tierra, un autobus de doble piso pesa ', peso_autobus, 'kg')\n",
    "print('El autobus mas ligero en nuestr sistema solas es ', peso_autobus * min(gravedad_de_planetas), 'kg')\n",
    "print('El autobus mas pesado en nuestr sistema solas es', peso_autobus * max(gravedad_de_planetas), 'kg')"
   ]
  },
  {
   "cell_type": "markdown",
   "metadata": {},
   "source": [
    "# Manipulacion de datos con Slice"
   ]
  },
  {
   "cell_type": "code",
   "execution_count": 17,
   "metadata": {},
   "outputs": [
    {
     "name": "stdout",
     "output_type": "stream",
     "text": [
      "['Mercurio', 'Venus']\n"
     ]
    }
   ],
   "source": [
    "\n",
    "planetas = ['Mercurio', 'Venus', 'Tierra', 'Marte', 'Jupiter', 'Saturno', 'Urano', 'Neptuno']\n",
    "planetas_antes_tierra = planetas[0:2] #el slice dice que solo saque del elemento 0 al 2\n",
    "print(planetas_antes_tierra)"
   ]
  },
  {
   "cell_type": "markdown",
   "metadata": {},
   "source": [
    "# Segundo ejemplo slice"
   ]
  },
  {
   "cell_type": "code",
   "execution_count": 18,
   "metadata": {},
   "outputs": [
    {
     "name": "stdout",
     "output_type": "stream",
     "text": [
      "['Marte', 'Jupiter', 'Saturno', 'Urano', 'Neptuno']\n"
     ]
    }
   ],
   "source": [
    "\n",
    "planetas_despues_tierra = planetas[3:8]\n",
    "print(planetas_despues_tierra) "
   ]
  },
  {
   "cell_type": "markdown",
   "metadata": {},
   "source": [
    "# Tercer ejemplo slicen sin parametro de final"
   ]
  },
  {
   "cell_type": "code",
   "execution_count": 22,
   "metadata": {},
   "outputs": [
    {
     "name": "stdout",
     "output_type": "stream",
     "text": [
      "['Marte', 'Jupiter', 'Saturno', 'Urano', 'Neptuno']\n"
     ]
    }
   ],
   "source": [
    "\n",
    "planetas_despues_tierra= planetas[3:]# asuem que empieza en 3 y va hasta el final\n",
    "print(planetas_despues_tierra)"
   ]
  },
  {
   "cell_type": "markdown",
   "metadata": {},
   "source": [
    "# Union de listas con +"
   ]
  },
  {
   "cell_type": "code",
   "execution_count": 23,
   "metadata": {},
   "outputs": [
    {
     "name": "stdout",
     "output_type": "stream",
     "text": [
      "The regular satellite moons of Jupiter are ['Metis', 'Adrastea', 'Amalthea', 'Thebe', 'Io', 'Europa', 'Ganymede', 'Callisto']\n"
     ]
    }
   ],
   "source": [
    "\n",
    "amalthea_group = ['Metis', 'Adrastea', 'Amalthea', 'Thebe']\n",
    "galilean_moons = ['Io', 'Europa', 'Ganymede', 'Callisto']\n",
    "\n",
    "regular_satellite_moons = amalthea_group + galilean_moons\n",
    "print('The regular satellite moons of Jupiter are', regular_satellite_moons)\n"
   ]
  },
  {
   "cell_type": "markdown",
   "metadata": {},
   "source": [
    "# Ordenar lista con sort()"
   ]
  },
  {
   "cell_type": "code",
   "execution_count": 24,
   "metadata": {},
   "outputs": [
    {
     "name": "stdout",
     "output_type": "stream",
     "text": [
      "The regular satellite moons of Jupiter are ['Adrastea', 'Amalthea', 'Callisto', 'Europa', 'Ganymede', 'Io', 'Metis', 'Thebe']\n"
     ]
    }
   ],
   "source": [
    "\n",
    "\n",
    "regular_satellite_moons.sort()\n",
    "print(\"The regular satellite moons of Jupiter are\", regular_satellite_moons)"
   ]
  },
  {
   "cell_type": "markdown",
   "metadata": {},
   "source": [
    "# Ordenamiento de forma inversa con sort()"
   ]
  },
  {
   "cell_type": "code",
   "execution_count": 25,
   "metadata": {},
   "outputs": [
    {
     "name": "stdout",
     "output_type": "stream",
     "text": [
      "The regular satellite moons of Jupiter are ['Thebe', 'Metis', 'Io', 'Ganymede', 'Europa', 'Callisto', 'Amalthea', 'Adrastea']\n"
     ]
    }
   ],
   "source": [
    "\n",
    "regular_satellite_moons.sort(reverse=True)\n",
    "print(\"The regular satellite moons of Jupiter are\", regular_satellite_moons)"
   ]
  }
 ],
 "metadata": {
  "interpreter": {
   "hash": "d2cadd893bfc71037801024f08fbf77d5b60b7694862eb4e2a43dfb50428443c"
  },
  "kernelspec": {
   "display_name": "Python 3.9.10 64-bit (system)",
   "language": "python",
   "name": "python3"
  },
  "language_info": {
   "codemirror_mode": {
    "name": "ipython",
    "version": 3
   },
   "file_extension": ".py",
   "mimetype": "text/x-python",
   "name": "python",
   "nbconvert_exporter": "python",
   "pygments_lexer": "ipython3",
   "version": "3.9.10"
  },
  "orig_nbformat": 4
 },
 "nbformat": 4,
 "nbformat_minor": 2
}
